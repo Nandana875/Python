
{
 "cells": [
  {
   "cell_type": "code",
   "execution_count": 1,
   "id": "89bd6691-6c34-4c7a-8104-a351fcdb6e9c",
   "metadata": {},
   "outputs": [
    {
     "name": "stdin",
     "output_type": "stream",
     "text": [
      "enter the kilometers : 4\n"
     ]
    },
    {
     "name": "stdout",
     "output_type": "stream",
     "text": [
      "4.0 is equal to 2.48548\n"
     ]
    }
   ],
   "source": [
    "#kilometer\n",
    "a=float(input(\"enter the kilometers :\"))\n",
    "b=a*(0.62137)\n",
    "print(\"{} is equal to {}\".format(a,b))"
   ]
  },
  {
   "cell_type": "code",
   "execution_count": 2,
   "id": "7b95bade-eae1-440a-9f83-de28cbae202a",
   "metadata": {},
   "outputs": [
    {
     "name": "stdin",
     "output_type": "stream",
     "text": [
      "enter the temparature in celcius : 24\n"
     ]
    },
    {
     "name": "stdout",
     "output_type": "stream",
     "text": [
      "the fahrnheit temparature is= 75.2\n"
     ]
    }
   ],
   "source": [
    "#celcius\n",
    "t=int(input(\"enter the temparature in celcius :\"))\n",
    "f=t * 9/5 + 32\n",
    "print(\"the fahrnheit temparature is=\",f)"
   ]
  },
  {
   "cell_type": "code",
   "execution_count": 6,
   "id": "a8acf4a0-5913-4526-a5e4-0f760e796ed9",
   "metadata": {},
   "outputs": [
    {
     "name": "stdin",
     "output_type": "stream",
     "text": [
      "enter the price of product A : 120\n",
      "enter the price of product B : 77\n",
      "enter the price of product C  98\n"
     ]
    },
    {
     "name": "stdout",
     "output_type": "stream",
     "text": [
      "final price (after 15% discount) : 250.75\n",
      " average price : 98.33\n",
      "product A is more expensive than the final price :False\n",
      "product B is more than expensive the final price :False\n",
      "product C is more than expensive the final price :False\n",
      "final price is in range between 60 to 200 :False\n"
     ]
    }
   ],
   "source": [
    "#three products\n",
    "a=float(input(\"enter the price of product A :\"))\n",
    "b=float(input(\"enter the price of product B :\"))\n",
    "c=float(input(\"enter the price of product C \"))\n",
    "total_price=a+b+c;\n",
    "discount=total_price*0.15\n",
    "final_price=total_price-discount\n",
    "print(f\"final price (after 15% discount) : {final_price}\")\n",
    "avg_price=total_price/3;\n",
    "print(f\" average price : {avg_price :.2f}\")\n",
    "print(f\"product A is more expensive than the final price :{a>final_price}\")\n",
    "print(f\"product B is more than expensive the final price :{b>final_price}\")\n",
    "print(f\"product C is more than expensive the final price :{c>final_price}\")\n",
    "print(f\"final price is in range between 60 to 200 :{final_price>60 and final_price<200}\")\n",
    "\n",
    "              \n"
   ]
  },
  {
   "cell_type": "code",
   "execution_count": null,
   "id": "1cd63d1f-937e-4030-9c7c-ce215dfe7042",
   "metadata": {},
   "outputs": [],
   "source": []
  }
 ],
 "metadata": {
  "kernelspec": {
   "display_name": "Python 3 (ipykernel)",
   "language": "python",
   "name": "python3"
  },
  "language_info": {
   "codemirror_mode": {
    "name": "ipython",
    "version": 3
   },
   "file_extension": ".py",
   "mimetype": "text/x-python",
   "name": "python",
   "nbconvert_exporter": "python",
   "pygments_lexer": "ipython3",
   "version": "3.11.9"
  }
 },
 "nbformat": 4,
 "nbformat_minor": 5
}
